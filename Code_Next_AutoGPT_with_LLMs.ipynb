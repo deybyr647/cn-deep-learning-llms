{
  "nbformat": 4,
  "nbformat_minor": 0,
  "metadata": {
    "colab": {
      "provenance": [],
      "toc_visible": true,
      "include_colab_link": true
    },
    "kernelspec": {
      "name": "python3",
      "display_name": "Python 3"
    },
    "language_info": {
      "name": "python"
    }
  },
  "cells": [
    {
      "cell_type": "markdown",
      "metadata": {
        "id": "view-in-github",
        "colab_type": "text"
      },
      "source": [
        "<a href=\"https://colab.research.google.com/github/deybyr647/cn-deep-learning-llms/blob/main/Code_Next_AutoGPT_with_LLMs.ipynb\" target=\"_parent\"><img src=\"https://colab.research.google.com/assets/colab-badge.svg\" alt=\"Open In Colab\"/></a>"
      ]
    },
    {
      "cell_type": "markdown",
      "source": [
        "# Creating an AutoGPT on Colab using Python & LangChain\n",
        "\n",
        "Hey Engineers! This Colab is meant as a way to show you all just how easy it is to create your own basic application that works with Large Language Models, or rather, LLMs, as we like to call them.\n",
        "\n",
        "<br>\n",
        "\n",
        "This Colab will more or less be somehwat of a skeleton that you can go into and modify for your own use. Because we're working a lot with Python, I thought it'd be a cool idea to gear this to be like a ChatGPT that focuses on explaining Python programming concepts."
      ],
      "metadata": {
        "id": "aK1p5EOn-Vw9"
      }
    },
    {
      "cell_type": "markdown",
      "source": [
        "## Environment Setup\n",
        "\n",
        "This section will focus on setting up your Google Colab environment to properly run your application. In other words, running the cells here is crucial.\n",
        "\n",
        "<br>\n",
        "\n",
        "The cells here will install the necessary Python dependencies for the project, along with helper dependencies that will allow you to view your app in your browser, as if you were running it locally from your device.\n",
        "\n"
      ],
      "metadata": {
        "id": "C9O8DVugc7MD"
      }
    },
    {
      "cell_type": "code",
      "source": [
        "# Install necessary Python packages using pip\n",
        "!pip install -q langchain streamlit openai wikipedia chromadb tiktoken"
      ],
      "metadata": {
        "id": "mJmFJAlOdlXZ"
      },
      "execution_count": null,
      "outputs": []
    },
    {
      "cell_type": "code",
      "source": [
        "# Install localtunnel to serve Streamlit App, using NPM\n",
        "!npm install localtunnel"
      ],
      "metadata": {
        "id": "E_kX2kHkd8hl"
      },
      "execution_count": null,
      "outputs": []
    }
  ]
}